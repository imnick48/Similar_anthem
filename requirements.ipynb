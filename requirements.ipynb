{
 "cells": [
  {
   "cell_type": "code",
   "execution_count": 1,
   "id": "fbf30b40-40c9-4a71-b8bd-d29e387f13b6",
   "metadata": {},
   "outputs": [
    {
     "name": "stdout",
     "output_type": "stream",
     "text": [
      "Defaulting to user installation because normal site-packages is not writeable\n",
      "Requirement already satisfied: nltk in /home/sagnick/.local/lib/python3.12/site-packages (3.9.1)\n",
      "Requirement already satisfied: click in /usr/lib/python3.12/site-packages (from nltk) (8.1.7)\n",
      "Requirement already satisfied: joblib in /home/sagnick/.local/lib/python3.12/site-packages (from nltk) (1.4.2)\n",
      "Requirement already satisfied: regex>=2021.8.3 in /usr/lib64/python3.12/site-packages (from nltk) (2024.4.28)\n",
      "Requirement already satisfied: tqdm in /usr/lib/python3.12/site-packages (from nltk) (4.66.5)\n",
      "Defaulting to user installation because normal site-packages is not writeable\n",
      "Requirement already satisfied: geopandas in /home/sagnick/.local/lib/python3.12/site-packages (1.0.1)\n",
      "Requirement already satisfied: matplotlib in /home/sagnick/.local/lib/python3.12/site-packages (3.9.0)\n",
      "Requirement already satisfied: pandas in /home/sagnick/.local/lib/python3.12/site-packages (2.2.2)\n",
      "Requirement already satisfied: numpy>=1.22 in /home/sagnick/.local/lib/python3.12/site-packages (from geopandas) (1.26.4)\n",
      "Requirement already satisfied: pyogrio>=0.7.2 in /home/sagnick/.local/lib/python3.12/site-packages (from geopandas) (0.9.0)\n",
      "Requirement already satisfied: packaging in /usr/lib/python3.12/site-packages (from geopandas) (23.2)\n",
      "Requirement already satisfied: pyproj>=3.3.0 in /home/sagnick/.local/lib/python3.12/site-packages (from geopandas) (3.6.1)\n",
      "Requirement already satisfied: shapely>=2.0.0 in /home/sagnick/.local/lib/python3.12/site-packages (from geopandas) (2.0.6)\n",
      "Requirement already satisfied: contourpy>=1.0.1 in /home/sagnick/.local/lib/python3.12/site-packages (from matplotlib) (1.2.1)\n",
      "Requirement already satisfied: cycler>=0.10 in /home/sagnick/.local/lib/python3.12/site-packages (from matplotlib) (0.12.1)\n",
      "Requirement already satisfied: fonttools>=4.22.0 in /home/sagnick/.local/lib/python3.12/site-packages (from matplotlib) (4.53.0)\n",
      "Requirement already satisfied: kiwisolver>=1.3.1 in /home/sagnick/.local/lib/python3.12/site-packages (from matplotlib) (1.4.5)\n",
      "Requirement already satisfied: pillow>=8 in /usr/lib64/python3.12/site-packages (from matplotlib) (10.3.0)\n",
      "Requirement already satisfied: pyparsing>=2.3.1 in /home/sagnick/.local/lib/python3.12/site-packages (from matplotlib) (3.1.2)\n",
      "Requirement already satisfied: python-dateutil>=2.7 in /usr/lib/python3.12/site-packages (from matplotlib) (2.8.2)\n",
      "Requirement already satisfied: pytz>=2020.1 in /home/sagnick/.local/lib/python3.12/site-packages (from pandas) (2024.1)\n",
      "Requirement already satisfied: tzdata>=2022.7 in /home/sagnick/.local/lib/python3.12/site-packages (from pandas) (2024.1)\n",
      "Requirement already satisfied: certifi in /home/sagnick/.local/lib/python3.12/site-packages (from pyogrio>=0.7.2->geopandas) (2024.6.2)\n",
      "Requirement already satisfied: six>=1.5 in /usr/lib/python3.12/site-packages (from python-dateutil>=2.7->matplotlib) (1.16.0)\n"
     ]
    }
   ],
   "source": [
    "!pip install nltk geopandas matplotlib pandas,kaggle"
   ]
  },
  {
   "cell_type": "code",
   "execution_count": 2,
   "id": "4a9cf3d1-d044-4464-850f-5b31485465c3",
   "metadata": {},
   "outputs": [
    {
     "name": "stdout",
     "output_type": "stream",
     "text": [
      "showing info https://raw.githubusercontent.com/nltk/nltk_data/gh-pages/index.xml\n"
     ]
    },
    {
     "data": {
      "text/plain": [
       "True"
      ]
     },
     "execution_count": 2,
     "metadata": {},
     "output_type": "execute_result"
    }
   ],
   "source": [
    "import nltk\n",
    "import zipfile\n",
    "nltk.download()"
   ]
  },
  {
   "cell_type": "code",
   "execution_count": 7,
   "id": "ecaea7a6-fbfd-4cb6-8e15-e6eed7fe473e",
   "metadata": {},
   "outputs": [
    {
     "name": "stdout",
     "output_type": "stream",
     "text": [
      "Dataset URL: https://www.kaggle.com/datasets/amankrpandey1/text-files-related-to-national-anthem-clustering\n",
      "License(s): Community Data License Agreement - Sharing - Version 1.0\n",
      "Downloading text-files-related-to-national-anthem-clustering.zip to dataset\n",
      "100%|██████████████████████████████████████| 3.80M/3.80M [00:02<00:00, 1.88MB/s]\n",
      "100%|██████████████████████████████████████| 3.80M/3.80M [00:02<00:00, 1.45MB/s]\n"
     ]
    }
   ],
   "source": [
    "!kaggle datasets download -d amankrpandey1/text-files-related-to-national-anthem-clustering -p dataset"
   ]
  },
  {
   "cell_type": "code",
   "execution_count": 6,
   "id": "9e0bfdd7-d6d5-488d-b11a-3e0056b35504",
   "metadata": {},
   "outputs": [],
   "source": [
    "url='data//text-files-related-to-national-anthem-clustering.zip'\n",
    "\n",
    "with zipfile.ZipFile(url,'r') as zip_file:\n",
    "    zip_file.extractall('data')"
   ]
  },
  {
   "cell_type": "code",
   "execution_count": null,
   "id": "8b8f5c27-cd17-4a9c-9979-228c83061e19",
   "metadata": {},
   "outputs": [],
   "source": []
  }
 ],
 "metadata": {
  "kernelspec": {
   "display_name": "Python 3 (ipykernel)",
   "language": "python",
   "name": "python3"
  },
  "language_info": {
   "codemirror_mode": {
    "name": "ipython",
    "version": 3
   },
   "file_extension": ".py",
   "mimetype": "text/x-python",
   "name": "python",
   "nbconvert_exporter": "python",
   "pygments_lexer": "ipython3",
   "version": "3.12.6"
  }
 },
 "nbformat": 4,
 "nbformat_minor": 5
}
